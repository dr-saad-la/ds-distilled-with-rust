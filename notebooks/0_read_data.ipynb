{
 "cells": [
  {
   "cell_type": "markdown",
   "id": "f0b621e8-3d02-45be-8d15-ca899b244e1b",
   "metadata": {},
   "source": [
    "## Reading Data with Rust "
   ]
  },
  {
   "cell_type": "code",
   "execution_count": 38,
   "id": "ee891e1c-f9a2-4ab9-98ed-98844f9648b3",
   "metadata": {
    "tags": []
   },
   "outputs": [],
   "source": [
    ":dep dsd = { path = \"../dsd/\"}\n",
    ":dep polars"
   ]
  },
  {
   "cell_type": "code",
   "execution_count": 39,
   "id": "fa49d66f-4412-402a-8c9c-82221177a416",
   "metadata": {
    "tags": []
   },
   "outputs": [],
   "source": [
    "// Import our library\n",
    "extern crate dsd;\n",
    "\n",
    "// importing functionalities to the scope\n",
    "use polars::prelude::*;\n",
    "use dsd::io::reader::{read_csv, print_head};"
   ]
  },
  {
   "cell_type": "code",
   "execution_count": 40,
   "id": "aa2f1119-367b-433d-aa83-662a80d49fae",
   "metadata": {
    "tags": []
   },
   "outputs": [],
   "source": [
    "// Read a CSV file\n",
    "let salary_data: DataFrame = read_csv(\"../datasets/salary_data.csv\").expect(\"Failed to read CSV file\");"
   ]
  },
  {
   "cell_type": "code",
   "execution_count": 41,
   "id": "8ba35ba6-b886-461b-9be2-b595a430aa48",
   "metadata": {
    "tags": []
   },
   "outputs": [
    {
     "name": "stdout",
     "output_type": "stream",
     "text": [
      "shape: (5, 2)\n",
      "┌─────────────────┬─────────┐\n",
      "│ YearsExperience ┆ Salary  │\n",
      "│ ---             ┆ ---     │\n",
      "│ f64             ┆ f64     │\n",
      "╞═════════════════╪═════════╡\n",
      "│ 1.1             ┆ 39343.0 │\n",
      "│ 1.3             ┆ 46205.0 │\n",
      "│ 1.5             ┆ 37731.0 │\n",
      "│ 2.0             ┆ 43525.0 │\n",
      "│ 2.2             ┆ 39891.0 │\n",
      "└─────────────────┴─────────┘\n"
     ]
    }
   ],
   "source": [
    "// Print the first 5 rows\n",
    "print_head(&df, 5);"
   ]
  },
  {
   "cell_type": "code",
   "execution_count": null,
   "id": "d5043194-7ab5-4212-91af-1f01861e4bba",
   "metadata": {},
   "outputs": [],
   "source": []
  }
 ],
 "metadata": {
  "kernelspec": {
   "display_name": "Rust",
   "language": "rust",
   "name": "rust"
  },
  "language_info": {
   "codemirror_mode": "rust",
   "file_extension": ".rs",
   "mimetype": "text/rust",
   "name": "Rust",
   "pygment_lexer": "rust",
   "version": ""
  }
 },
 "nbformat": 4,
 "nbformat_minor": 5
}
